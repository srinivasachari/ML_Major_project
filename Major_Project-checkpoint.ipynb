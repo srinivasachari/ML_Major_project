{
 "cells": [
  {
   "cell_type": "markdown",
   "metadata": {
    "id": "zNyhAlKRInr9"
   },
   "source": [
    "# **PROJECT STATEMENT:**\n",
    "A bank has given data of user’s bank wants you to make a model that can be used to predict customer defaulter on his EMI payment."
   ]
  },
  {
   "cell_type": "code",
   "execution_count": 1,
   "metadata": {
    "id": "5eYGku7ZUTK7"
   },
   "outputs": [],
   "source": [
    "#importing required libraries\n",
    "import numpy as np\n",
    "import pandas as pd\n",
    "import matplotlib.pyplot as plt\n",
    "import math\n",
    "from pandas.plotting import scatter_matrix\n",
    "import statsmodels.api as sm\n",
    "from sklearn.preprocessing import LabelEncoder, OneHotEncoder\n",
    "import seaborn as sns\n",
    "from sklearn.model_selection import train_test_split\n",
    "from sklearn.linear_model import LinearRegression\n",
    "import scipy.stats"
   ]
  },
  {
   "cell_type": "code",
   "execution_count": 2,
   "metadata": {
    "id": "gvDpg7bwjbp6"
   },
   "outputs": [],
   "source": [
    "\n",
    "import matplotlib.pyplot as plt\n",
    "import scipy.stats"
   ]
  },
  {
   "cell_type": "code",
   "execution_count": 3,
   "metadata": {
    "colab": {
     "base_uri": "https://localhost:8080/"
    },
    "id": "-3BNByLQxxSD",
    "outputId": "96807a02-a3b0-4881-d4c3-e7cf90c02517"
   },
   "outputs": [
    {
     "name": "stderr",
     "output_type": "stream",
     "text": [
      "C:\\Users\\racha\\AppData\\Local\\Temp\\ipykernel_16000\\1977099617.py:1: DtypeWarning: Columns (746,835) have mixed types. Specify dtype option on import or set low_memory=False.\n",
      "  data=pd.read_csv('Train.csv')\n"
     ]
    }
   ],
   "source": [
    "data=pd.read_csv('Train.csv')"
   ]
  },
  {
   "cell_type": "code",
   "execution_count": 4,
   "metadata": {
    "colab": {
     "base_uri": "https://localhost:8080/"
    },
    "id": "DLSTxg42yDzw",
    "outputId": "0dad6431-1772-4304-c3b6-c1d49a523020"
   },
   "outputs": [
    {
     "data": {
      "text/plain": [
       "(17521, 2395)"
      ]
     },
     "execution_count": 4,
     "metadata": {},
     "output_type": "execute_result"
    }
   ],
   "source": [
    "data.shape\n"
   ]
  },
  {
   "cell_type": "code",
   "execution_count": 5,
   "metadata": {
    "colab": {
     "base_uri": "https://localhost:8080/"
    },
    "id": "K1SMlR18yf0B",
    "outputId": "1d708945-f49d-434e-b3f2-f427f1697ee2"
   },
   "outputs": [
    {
     "data": {
      "text/plain": [
       "Index(['Col1', 'Col2', 'Col3', 'Col4', 'Col5', 'Col6', 'Col7', 'Col8', 'Col9',\n",
       "       'Col10',\n",
       "       ...\n",
       "       'Col2388', 'Col2389', 'Col2390', 'Col2391', 'Col2392', 'Col2393',\n",
       "       'Col2394', 'Col2395', 'Col2396', 'Col2397'],\n",
       "      dtype='object', length=2395)"
      ]
     },
     "execution_count": 5,
     "metadata": {},
     "output_type": "execute_result"
    }
   ],
   "source": [
    "col=data.columns\n",
    "col"
   ]
  },
  {
   "cell_type": "code",
   "execution_count": 6,
   "metadata": {
    "colab": {
     "base_uri": "https://localhost:8080/"
    },
    "id": "VORIv-pWhdGW",
    "outputId": "287515e3-6e85-4ede-9f3e-0df794d4c3bd"
   },
   "outputs": [
    {
     "name": "stdout",
     "output_type": "stream",
     "text": [
      "<class 'pandas.core.frame.DataFrame'>\n",
      "RangeIndex: 17521 entries, 0 to 17520\n",
      "Columns: 2395 entries, Col1 to Col2397\n",
      "dtypes: float64(844), int64(1548), object(3)\n",
      "memory usage: 320.2+ MB\n"
     ]
    }
   ],
   "source": [
    "data.info()"
   ]
  },
  {
   "cell_type": "code",
   "execution_count": 7,
   "metadata": {
    "id": "hQj6c__2X_6N"
   },
   "outputs": [],
   "source": [
    "object_columns = data.select_dtypes(include=['object']).columns\n"
   ]
  },
  {
   "cell_type": "code",
   "execution_count": 8,
   "metadata": {
    "colab": {
     "base_uri": "https://localhost:8080/"
    },
    "id": "htbLORTKi5vJ",
    "outputId": "f98a9b94-bb1c-4ea8-aef6-cefadbc3b220"
   },
   "outputs": [
    {
     "name": "stdout",
     "output_type": "stream",
     "text": [
      "\n",
      "object columns:\n",
      " Index(['Col1', 'Col747', 'Col836'], dtype='object')\n"
     ]
    }
   ],
   "source": [
    "print('\\nobject columns:\\n', object_columns)"
   ]
  },
  {
   "cell_type": "code",
   "execution_count": 9,
   "metadata": {
    "id": "vP9wfbBXi5gP"
   },
   "outputs": [],
   "source": [
    "data=data.drop(['Col747','Col836'],axis=1)"
   ]
  },
  {
   "cell_type": "code",
   "execution_count": 10,
   "metadata": {
    "colab": {
     "base_uri": "https://localhost:8080/"
    },
    "id": "Qm8i_JMmZJvH",
    "outputId": "38cf96c4-d548-4480-81fa-dfafba5bcb50"
   },
   "outputs": [
    {
     "name": "stdout",
     "output_type": "stream",
     "text": [
      "Col1          0\n",
      "Col2          0\n",
      "Col3          0\n",
      "Col4          0\n",
      "Col5          0\n",
      "           ... \n",
      "Col2393    1174\n",
      "Col2394    1186\n",
      "Col2395    1174\n",
      "Col2396    1174\n",
      "Col2397    1186\n",
      "Length: 2393, dtype: int64\n"
     ]
    }
   ],
   "source": [
    "print(data.isnull().sum())"
   ]
  },
  {
   "cell_type": "code",
   "execution_count": 11,
   "metadata": {
    "colab": {
     "base_uri": "https://localhost:8080/",
     "height": 488
    },
    "id": "djIIbJXGBvIS",
    "outputId": "23d94bed-1fc1-49f0-cf0c-5ab2a5103d70"
   },
   "outputs": [
    {
     "data": {
      "text/html": [
       "<div>\n",
       "<style scoped>\n",
       "    .dataframe tbody tr th:only-of-type {\n",
       "        vertical-align: middle;\n",
       "    }\n",
       "\n",
       "    .dataframe tbody tr th {\n",
       "        vertical-align: top;\n",
       "    }\n",
       "\n",
       "    .dataframe thead th {\n",
       "        text-align: right;\n",
       "    }\n",
       "</style>\n",
       "<table border=\"1\" class=\"dataframe\">\n",
       "  <thead>\n",
       "    <tr style=\"text-align: right;\">\n",
       "      <th></th>\n",
       "      <th>Col2</th>\n",
       "      <th>Col3</th>\n",
       "      <th>Col4</th>\n",
       "      <th>Col5</th>\n",
       "      <th>Col6</th>\n",
       "      <th>Col7</th>\n",
       "      <th>Col8</th>\n",
       "      <th>Col9</th>\n",
       "      <th>Col10</th>\n",
       "      <th>Col11</th>\n",
       "      <th>...</th>\n",
       "      <th>Col2388</th>\n",
       "      <th>Col2389</th>\n",
       "      <th>Col2390</th>\n",
       "      <th>Col2391</th>\n",
       "      <th>Col2392</th>\n",
       "      <th>Col2393</th>\n",
       "      <th>Col2394</th>\n",
       "      <th>Col2395</th>\n",
       "      <th>Col2396</th>\n",
       "      <th>Col2397</th>\n",
       "    </tr>\n",
       "  </thead>\n",
       "  <tbody>\n",
       "    <tr>\n",
       "      <th>0</th>\n",
       "      <td>1</td>\n",
       "      <td>1.086711e+04</td>\n",
       "      <td>8.648345e+03</td>\n",
       "      <td>1.576618e+04</td>\n",
       "      <td>2.890466e+04</td>\n",
       "      <td>5.273655e+03</td>\n",
       "      <td>2.346153e+04</td>\n",
       "      <td>1.285597e+04</td>\n",
       "      <td>2.871509e+04</td>\n",
       "      <td>9.114586e+03</td>\n",
       "      <td>...</td>\n",
       "      <td>0</td>\n",
       "      <td>1</td>\n",
       "      <td>0</td>\n",
       "      <td>1</td>\n",
       "      <td>214.0</td>\n",
       "      <td>214.0</td>\n",
       "      <td>68.0</td>\n",
       "      <td>22.0</td>\n",
       "      <td>22.0</td>\n",
       "      <td>7.0</td>\n",
       "    </tr>\n",
       "    <tr>\n",
       "      <th>1</th>\n",
       "      <td>0</td>\n",
       "      <td>2.584312e+05</td>\n",
       "      <td>2.179633e+05</td>\n",
       "      <td>1.866287e+05</td>\n",
       "      <td>1.866287e+05</td>\n",
       "      <td>2.154519e+05</td>\n",
       "      <td>1.923615e+05</td>\n",
       "      <td>1.726538e+05</td>\n",
       "      <td>1.666974e+05</td>\n",
       "      <td>2.013518e+05</td>\n",
       "      <td>...</td>\n",
       "      <td>0</td>\n",
       "      <td>0</td>\n",
       "      <td>0</td>\n",
       "      <td>0</td>\n",
       "      <td>41.0</td>\n",
       "      <td>41.0</td>\n",
       "      <td>38.0</td>\n",
       "      <td>12.0</td>\n",
       "      <td>12.0</td>\n",
       "      <td>11.0</td>\n",
       "    </tr>\n",
       "    <tr>\n",
       "      <th>2</th>\n",
       "      <td>0</td>\n",
       "      <td>1.459355e+07</td>\n",
       "      <td>1.260060e+07</td>\n",
       "      <td>1.100315e+07</td>\n",
       "      <td>1.010315e+07</td>\n",
       "      <td>1.879882e+07</td>\n",
       "      <td>1.514035e+07</td>\n",
       "      <td>5.320778e+06</td>\n",
       "      <td>6.906324e+06</td>\n",
       "      <td>9.368338e+06</td>\n",
       "      <td>...</td>\n",
       "      <td>0</td>\n",
       "      <td>1</td>\n",
       "      <td>1</td>\n",
       "      <td>0</td>\n",
       "      <td>378.0</td>\n",
       "      <td>378.0</td>\n",
       "      <td>310.0</td>\n",
       "      <td>21.0</td>\n",
       "      <td>21.0</td>\n",
       "      <td>16.0</td>\n",
       "    </tr>\n",
       "    <tr>\n",
       "      <th>3</th>\n",
       "      <td>0</td>\n",
       "      <td>6.727043e+05</td>\n",
       "      <td>8.181116e+05</td>\n",
       "      <td>6.794893e+05</td>\n",
       "      <td>6.794893e+05</td>\n",
       "      <td>8.257254e+05</td>\n",
       "      <td>7.605803e+05</td>\n",
       "      <td>3.577134e+05</td>\n",
       "      <td>4.236612e+05</td>\n",
       "      <td>4.304848e+05</td>\n",
       "      <td>...</td>\n",
       "      <td>0</td>\n",
       "      <td>0</td>\n",
       "      <td>0</td>\n",
       "      <td>0</td>\n",
       "      <td>702.0</td>\n",
       "      <td>702.0</td>\n",
       "      <td>644.0</td>\n",
       "      <td>951.0</td>\n",
       "      <td>951.0</td>\n",
       "      <td>743.0</td>\n",
       "    </tr>\n",
       "    <tr>\n",
       "      <th>4</th>\n",
       "      <td>0</td>\n",
       "      <td>-1.218742e+06</td>\n",
       "      <td>-3.005361e+06</td>\n",
       "      <td>-1.666241e+05</td>\n",
       "      <td>-2.403574e+06</td>\n",
       "      <td>2.583183e+06</td>\n",
       "      <td>2.086546e+06</td>\n",
       "      <td>5.938358e+06</td>\n",
       "      <td>5.446532e+06</td>\n",
       "      <td>3.473444e+06</td>\n",
       "      <td>...</td>\n",
       "      <td>0</td>\n",
       "      <td>0</td>\n",
       "      <td>0</td>\n",
       "      <td>0</td>\n",
       "      <td>1305.0</td>\n",
       "      <td>1305.0</td>\n",
       "      <td>1211.0</td>\n",
       "      <td>2205.0</td>\n",
       "      <td>2205.0</td>\n",
       "      <td>1831.0</td>\n",
       "    </tr>\n",
       "    <tr>\n",
       "      <th>...</th>\n",
       "      <td>...</td>\n",
       "      <td>...</td>\n",
       "      <td>...</td>\n",
       "      <td>...</td>\n",
       "      <td>...</td>\n",
       "      <td>...</td>\n",
       "      <td>...</td>\n",
       "      <td>...</td>\n",
       "      <td>...</td>\n",
       "      <td>...</td>\n",
       "      <td>...</td>\n",
       "      <td>...</td>\n",
       "      <td>...</td>\n",
       "      <td>...</td>\n",
       "      <td>...</td>\n",
       "      <td>...</td>\n",
       "      <td>...</td>\n",
       "      <td>...</td>\n",
       "      <td>...</td>\n",
       "      <td>...</td>\n",
       "      <td>...</td>\n",
       "    </tr>\n",
       "    <tr>\n",
       "      <th>17516</th>\n",
       "      <td>0</td>\n",
       "      <td>9.404683e+03</td>\n",
       "      <td>3.726288e+03</td>\n",
       "      <td>3.726288e+03</td>\n",
       "      <td>7.445963e+03</td>\n",
       "      <td>2.017008e+04</td>\n",
       "      <td>4.034016e+04</td>\n",
       "      <td>5.107963e+03</td>\n",
       "      <td>4.950751e+03</td>\n",
       "      <td>2.040694e+04</td>\n",
       "      <td>...</td>\n",
       "      <td>0</td>\n",
       "      <td>0</td>\n",
       "      <td>0</td>\n",
       "      <td>0</td>\n",
       "      <td>38.0</td>\n",
       "      <td>35.0</td>\n",
       "      <td>25.0</td>\n",
       "      <td>14.0</td>\n",
       "      <td>11.0</td>\n",
       "      <td>6.0</td>\n",
       "    </tr>\n",
       "    <tr>\n",
       "      <th>17517</th>\n",
       "      <td>0</td>\n",
       "      <td>6.563830e+04</td>\n",
       "      <td>1.910968e+04</td>\n",
       "      <td>1.761840e+04</td>\n",
       "      <td>3.523681e+04</td>\n",
       "      <td>4.639897e+03</td>\n",
       "      <td>1.422805e+04</td>\n",
       "      <td>4.775029e+04</td>\n",
       "      <td>6.006875e+04</td>\n",
       "      <td>1.032587e+04</td>\n",
       "      <td>...</td>\n",
       "      <td>1</td>\n",
       "      <td>0</td>\n",
       "      <td>1</td>\n",
       "      <td>0</td>\n",
       "      <td>155.0</td>\n",
       "      <td>145.0</td>\n",
       "      <td>90.0</td>\n",
       "      <td>31.0</td>\n",
       "      <td>21.0</td>\n",
       "      <td>12.0</td>\n",
       "    </tr>\n",
       "    <tr>\n",
       "      <th>17518</th>\n",
       "      <td>0</td>\n",
       "      <td>4.220941e+04</td>\n",
       "      <td>3.173771e+04</td>\n",
       "      <td>2.539017e+04</td>\n",
       "      <td>2.539017e+04</td>\n",
       "      <td>1.005050e+04</td>\n",
       "      <td>8.040400e+03</td>\n",
       "      <td>4.354578e+04</td>\n",
       "      <td>4.097184e+04</td>\n",
       "      <td>1.594774e+02</td>\n",
       "      <td>...</td>\n",
       "      <td>0</td>\n",
       "      <td>0</td>\n",
       "      <td>0</td>\n",
       "      <td>0</td>\n",
       "      <td>2.0</td>\n",
       "      <td>2.0</td>\n",
       "      <td>2.0</td>\n",
       "      <td>4.0</td>\n",
       "      <td>4.0</td>\n",
       "      <td>2.0</td>\n",
       "    </tr>\n",
       "    <tr>\n",
       "      <th>17519</th>\n",
       "      <td>0</td>\n",
       "      <td>7.048496e+04</td>\n",
       "      <td>9.814610e+04</td>\n",
       "      <td>9.814610e+04</td>\n",
       "      <td>1.080079e+05</td>\n",
       "      <td>1.317389e+05</td>\n",
       "      <td>1.359192e+05</td>\n",
       "      <td>5.724762e+04</td>\n",
       "      <td>5.605762e+04</td>\n",
       "      <td>7.384116e+04</td>\n",
       "      <td>...</td>\n",
       "      <td>0</td>\n",
       "      <td>1</td>\n",
       "      <td>0</td>\n",
       "      <td>1</td>\n",
       "      <td>35.0</td>\n",
       "      <td>34.0</td>\n",
       "      <td>11.0</td>\n",
       "      <td>10.0</td>\n",
       "      <td>9.0</td>\n",
       "      <td>4.0</td>\n",
       "    </tr>\n",
       "    <tr>\n",
       "      <th>17520</th>\n",
       "      <td>0</td>\n",
       "      <td>1.019198e+04</td>\n",
       "      <td>1.014426e+04</td>\n",
       "      <td>1.014426e+04</td>\n",
       "      <td>1.014426e+04</td>\n",
       "      <td>1.036962e+04</td>\n",
       "      <td>1.036962e+04</td>\n",
       "      <td>8.730599e+01</td>\n",
       "      <td>8.730599e+01</td>\n",
       "      <td>3.925842e+02</td>\n",
       "      <td>...</td>\n",
       "      <td>0</td>\n",
       "      <td>0</td>\n",
       "      <td>0</td>\n",
       "      <td>0</td>\n",
       "      <td>2.0</td>\n",
       "      <td>2.0</td>\n",
       "      <td>2.0</td>\n",
       "      <td>4.0</td>\n",
       "      <td>4.0</td>\n",
       "      <td>3.0</td>\n",
       "    </tr>\n",
       "  </tbody>\n",
       "</table>\n",
       "<p>17521 rows × 2392 columns</p>\n",
       "</div>"
      ],
      "text/plain": [
       "       Col2          Col3          Col4          Col5          Col6  \\\n",
       "0         1  1.086711e+04  8.648345e+03  1.576618e+04  2.890466e+04   \n",
       "1         0  2.584312e+05  2.179633e+05  1.866287e+05  1.866287e+05   \n",
       "2         0  1.459355e+07  1.260060e+07  1.100315e+07  1.010315e+07   \n",
       "3         0  6.727043e+05  8.181116e+05  6.794893e+05  6.794893e+05   \n",
       "4         0 -1.218742e+06 -3.005361e+06 -1.666241e+05 -2.403574e+06   \n",
       "...     ...           ...           ...           ...           ...   \n",
       "17516     0  9.404683e+03  3.726288e+03  3.726288e+03  7.445963e+03   \n",
       "17517     0  6.563830e+04  1.910968e+04  1.761840e+04  3.523681e+04   \n",
       "17518     0  4.220941e+04  3.173771e+04  2.539017e+04  2.539017e+04   \n",
       "17519     0  7.048496e+04  9.814610e+04  9.814610e+04  1.080079e+05   \n",
       "17520     0  1.019198e+04  1.014426e+04  1.014426e+04  1.014426e+04   \n",
       "\n",
       "               Col7          Col8          Col9         Col10         Col11  \\\n",
       "0      5.273655e+03  2.346153e+04  1.285597e+04  2.871509e+04  9.114586e+03   \n",
       "1      2.154519e+05  1.923615e+05  1.726538e+05  1.666974e+05  2.013518e+05   \n",
       "2      1.879882e+07  1.514035e+07  5.320778e+06  6.906324e+06  9.368338e+06   \n",
       "3      8.257254e+05  7.605803e+05  3.577134e+05  4.236612e+05  4.304848e+05   \n",
       "4      2.583183e+06  2.086546e+06  5.938358e+06  5.446532e+06  3.473444e+06   \n",
       "...             ...           ...           ...           ...           ...   \n",
       "17516  2.017008e+04  4.034016e+04  5.107963e+03  4.950751e+03  2.040694e+04   \n",
       "17517  4.639897e+03  1.422805e+04  4.775029e+04  6.006875e+04  1.032587e+04   \n",
       "17518  1.005050e+04  8.040400e+03  4.354578e+04  4.097184e+04  1.594774e+02   \n",
       "17519  1.317389e+05  1.359192e+05  5.724762e+04  5.605762e+04  7.384116e+04   \n",
       "17520  1.036962e+04  1.036962e+04  8.730599e+01  8.730599e+01  3.925842e+02   \n",
       "\n",
       "       ...  Col2388  Col2389  Col2390  Col2391  Col2392  Col2393  Col2394  \\\n",
       "0      ...        0        1        0        1    214.0    214.0     68.0   \n",
       "1      ...        0        0        0        0     41.0     41.0     38.0   \n",
       "2      ...        0        1        1        0    378.0    378.0    310.0   \n",
       "3      ...        0        0        0        0    702.0    702.0    644.0   \n",
       "4      ...        0        0        0        0   1305.0   1305.0   1211.0   \n",
       "...    ...      ...      ...      ...      ...      ...      ...      ...   \n",
       "17516  ...        0        0        0        0     38.0     35.0     25.0   \n",
       "17517  ...        1        0        1        0    155.0    145.0     90.0   \n",
       "17518  ...        0        0        0        0      2.0      2.0      2.0   \n",
       "17519  ...        0        1        0        1     35.0     34.0     11.0   \n",
       "17520  ...        0        0        0        0      2.0      2.0      2.0   \n",
       "\n",
       "       Col2395  Col2396  Col2397  \n",
       "0         22.0     22.0      7.0  \n",
       "1         12.0     12.0     11.0  \n",
       "2         21.0     21.0     16.0  \n",
       "3        951.0    951.0    743.0  \n",
       "4       2205.0   2205.0   1831.0  \n",
       "...        ...      ...      ...  \n",
       "17516     14.0     11.0      6.0  \n",
       "17517     31.0     21.0     12.0  \n",
       "17518      4.0      4.0      2.0  \n",
       "17519     10.0      9.0      4.0  \n",
       "17520      4.0      4.0      3.0  \n",
       "\n",
       "[17521 rows x 2392 columns]"
      ]
     },
     "execution_count": 11,
     "metadata": {},
     "output_type": "execute_result"
    }
   ],
   "source": [
    "data=data.drop(['Col1'],axis=1)\n",
    "data"
   ]
  },
  {
   "cell_type": "code",
   "execution_count": null,
   "metadata": {
    "colab": {
     "base_uri": "https://localhost:8080/",
     "height": 488
    },
    "id": "cET8ReUlGLTJ",
    "outputId": "a1059dfc-3b0e-423a-e1b5-33a607851b85"
   },
   "outputs": [],
   "source": [
    "data.corr()"
   ]
  },
  {
   "cell_type": "code",
   "execution_count": null,
   "metadata": {
    "id": "sIloHgNwGEiq"
   },
   "outputs": [],
   "source": []
  },
  {
   "cell_type": "code",
   "execution_count": null,
   "metadata": {
    "id": "A4dXhLeSewkI"
   },
   "outputs": [],
   "source": [
    "# import pandas as pd\n",
    "# import numpy as np\n",
    "\n",
    "# def clean_dataset(df):\n",
    "#     assert isinstance(df, pd.DataFrame), \"df needs to be a pd.DataFrame\"\n",
    "#     df.dropna(inplace=True)\n",
    "#     indices_to_keep = ~df.isin([np.nan, np.inf, -np.inf]).any(1)\n",
    "#     return df[indices_to_keep].astype(np.float64)"
   ]
  },
  {
   "cell_type": "code",
   "execution_count": null,
   "metadata": {
    "id": "izmCI02yfCSx"
   },
   "outputs": [],
   "source": [
    "# clean_dataset"
   ]
  },
  {
   "cell_type": "code",
   "execution_count": null,
   "metadata": {
    "colab": {
     "base_uri": "https://localhost:8080/"
    },
    "id": "AyeopvE1JBZO",
    "outputId": "660abbea-9d79-40f2-ce3d-3a8a174b6589"
   },
   "outputs": [],
   "source": [
    "shape=data.shape\n",
    "shape"
   ]
  },
  {
   "cell_type": "code",
   "execution_count": null,
   "metadata": {
    "id": "tLSlDe_NCCXx"
   },
   "outputs": [],
   "source": [
    "data.drop(['Col2'],axis=1)\n",
    "x_train=data"
   ]
  },
  {
   "cell_type": "code",
   "execution_count": null,
   "metadata": {
    "colab": {
     "base_uri": "https://localhost:8080/",
     "height": 488
    },
    "id": "OIXB6oSqBnna",
    "outputId": "d2bca52a-2ddd-43ee-e8c4-9d51d16a7645"
   },
   "outputs": [],
   "source": [
    "x_train"
   ]
  },
  {
   "cell_type": "code",
   "execution_count": null,
   "metadata": {
    "id": "oR_8wLCLjlh3"
   },
   "outputs": [],
   "source": [
    "x_train=data"
   ]
  },
  {
   "cell_type": "code",
   "execution_count": null,
   "metadata": {
    "id": "V9Wfq9E1X_9u"
   },
   "outputs": [],
   "source": [
    "df=x_train"
   ]
  },
  {
   "cell_type": "code",
   "execution_count": null,
   "metadata": {
    "colab": {
     "base_uri": "https://localhost:8080/"
    },
    "id": "TI0voJKGI_bb",
    "outputId": "2d3644ef-2ea4-433e-d7ad-4efdcc6849af"
   },
   "outputs": [],
   "source": [
    "data = np.random.normal(size=shape)\n",
    "\n",
    "data[:, 1000] += data[:, 2000]\n",
    "\n",
    "df = pd.DataFrame(data)\n",
    "\n",
    "c = df.corr().abs()\n",
    "\n",
    "s = c.unstack()\n",
    "so = s.sort_values(kind=\"quicksort\")\n",
    "\n",
    "print (so[-17521:-2394])"
   ]
  },
  {
   "cell_type": "code",
   "execution_count": null,
   "metadata": {
    "id": "5-IDON8uqkS2"
   },
   "outputs": [],
   "source": [
    "# x_train.round().astype(int)"
   ]
  },
  {
   "cell_type": "code",
   "execution_count": null,
   "metadata": {
    "id": "zZnBXusdcyMw"
   },
   "outputs": [],
   "source": [
    "y_train=x_train.Col2"
   ]
  },
  {
   "cell_type": "code",
   "execution_count": null,
   "metadata": {
    "colab": {
     "base_uri": "https://localhost:8080/"
    },
    "id": "qpVwSaKXCUfK",
    "outputId": "5516fcd7-8658-4811-d16f-1ab24559c2dd"
   },
   "outputs": [],
   "source": [
    "y_train"
   ]
  },
  {
   "cell_type": "markdown",
   "metadata": {
    "id": "v5B8uJRhI3jU"
   },
   "source": [
    "# **RANDOMN FOREST REGRESSION:**\n",
    "A random forest regressor.\n",
    "\n",
    "A random forest is a meta estimator that fits a number of classifying decision trees on various sub-samples of the dataset and uses averaging to improve the predictive accuracy and control over-fitting. \n",
    "\n",
    "Random Forest Regression is a supervised learning algorithm that uses ensemble learning method for regression. Ensemble learning method is a technique that combines predictions from multiple machine learning algorithms to make a more accurate prediction than a single model.\n",
    " \n",
    "# **RANDOM FOREST IS PERFECT FOR PREDICTICTING VALUES IN A LARGE DATSET**\n",
    "Steps involved in Random Forests:\n",
    "\n",
    "Step 1: Identify your dependent (y) and independent variables (X)\n",
    "\n",
    "Step 2: Split the dataset into the Training set and Test set\n",
    "\n",
    "Step 3: Training the Random Forest Regression model on the whole dataset\n",
    "\n",
    "Step 4: Predicting the Test set results\n",
    "\n"
   ]
  },
  {
   "cell_type": "code",
   "execution_count": null,
   "metadata": {
    "id": "B9j2UTOUFmTx"
   },
   "outputs": [],
   "source": [
    "from sklearn.ensemble import RandomForestRegressor\n",
    "model_rfc=RandomForestRegressor(n_estimators=10)\n",
    "np.any(np.isnan(x_train))\n",
    "np.all(np.isfinite(x_train))\n",
    "model_rfc.fit(x_train,y_train)"
   ]
  },
  {
   "cell_type": "code",
   "execution_count": null,
   "metadata": {
    "colab": {
     "base_uri": "https://localhost:8080/"
    },
    "id": "P5FAHpjNCaIE",
    "outputId": "afcde66a-01d5-4fc4-83f3-77002eddca23"
   },
   "outputs": [],
   "source": [
    "x_test=pd.read_csv('Test.csv')"
   ]
  },
  {
   "cell_type": "code",
   "execution_count": null,
   "metadata": {
    "id": "cJtqsBD9CaBK"
   },
   "outputs": [],
   "source": [
    "x_test=x_test.drop(['Col1'],axis=1)"
   ]
  },
  {
   "cell_type": "code",
   "execution_count": null,
   "metadata": {
    "colab": {
     "base_uri": "https://localhost:8080/",
     "height": 488
    },
    "id": "wXpRdwQ2CaEq",
    "outputId": "b0a85104-2a66-4e99-d394-321118d4c2df"
   },
   "outputs": [],
   "source": [
    "x_test"
   ]
  },
  {
   "cell_type": "code",
   "execution_count": null,
   "metadata": {
    "id": "ebg8BZD4r6hb"
   },
   "outputs": [],
   "source": [
    "df1=x_test"
   ]
  },
  {
   "cell_type": "code",
   "execution_count": null,
   "metadata": {
    "colab": {
     "base_uri": "https://localhost:8080/"
    },
    "id": "hVu--iOBtmT5",
    "outputId": "4e8cbcc6-c914-4e09-cae6-aa01368e3556"
   },
   "outputs": [],
   "source": [
    "data = np.random.normal(size=shape)\n",
    "\n",
    "data[:, 1000] += data[:, 2000]\n",
    "\n",
    "df1 = pd.DataFrame(data)\n",
    "\n",
    "c = df1.corr().abs()\n",
    "\n",
    "s = c.unstack()\n",
    "so = s.sort_values(kind=\"quicksort\")\n",
    "\n",
    "print (so[-17521:-2394])"
   ]
  },
  {
   "cell_type": "code",
   "execution_count": null,
   "metadata": {
    "colab": {
     "base_uri": "https://localhost:8080/",
     "height": 488
    },
    "id": "lqkeAVWNDGx5",
    "outputId": "ed5d08bd-367a-4d27-dff8-c66cc30b7bdc"
   },
   "outputs": [],
   "source": [
    "x_test"
   ]
  },
  {
   "cell_type": "code",
   "execution_count": null,
   "metadata": {
    "id": "zxXHLzLsj3hD"
   },
   "outputs": [],
   "source": [
    "# x_test.round().astype(int)"
   ]
  },
  {
   "cell_type": "code",
   "execution_count": null,
   "metadata": {
    "id": "ZLI--hVzjybe"
   },
   "outputs": [],
   "source": [
    "y_pred_rfc=model_rfc.predict(x_test)\n",
    "y_pred"
   ]
  },
  {
   "cell_type": "code",
   "execution_count": null,
   "metadata": {
    "id": "3ndal5U5F41z"
   },
   "outputs": [],
   "source": [
    "y_test\n"
   ]
  },
  {
   "cell_type": "code",
   "execution_count": null,
   "metadata": {
    "id": "mGvlAA3mYBEG"
   },
   "outputs": [],
   "source": [
    "model_rfc.score(x,y)\n"
   ]
  },
  {
   "cell_type": "markdown",
   "metadata": {
    "id": "LnCQrH5zO9Rz"
   },
   "source": [
    "# **WE USE CONFUSION MATRIX TO FIND ACCURACY OF THE MODEL **"
   ]
  },
  {
   "cell_type": "code",
   "execution_count": null,
   "metadata": {
    "id": "cc9DhZ6EO51i"
   },
   "outputs": [],
   "source": [
    "cm_RFr=confusion_matrix(y_pred_RFC,y_test)\n",
    "cm_RFC"
   ]
  },
  {
   "cell_type": "code",
   "execution_count": null,
   "metadata": {
    "id": "GVkS-eicRLJg"
   },
   "outputs": [],
   "source": [
    "Accuracy"
   ]
  },
  {
   "cell_type": "markdown",
   "metadata": {
    "id": "SDfFxVCTOZik"
   },
   "source": [
    "# **CONCLUSION**:\n",
    "This depicts my final project from Verzeo Machine learning with Python course.\n",
    "\n",
    "--->The machine learning model gives basic insight in  predicting accurate values for the probabilty of an EMI repayment by a customer who has borrowed loan from Bank.\n",
    "\n",
    "--->Pandas , sklearn ,numpy and many more libraries of python are used in building the machine learning model ,various techniques of exploration of data analysis and classification of data can be done with the help of these libraries .\n"
   ]
  }
 ],
 "metadata": {
  "colab": {
   "provenance": []
  },
  "kernelspec": {
   "display_name": "Python 3 (ipykernel)",
   "language": "python",
   "name": "python3"
  },
  "language_info": {
   "codemirror_mode": {
    "name": "ipython",
    "version": 3
   },
   "file_extension": ".py",
   "mimetype": "text/x-python",
   "name": "python",
   "nbconvert_exporter": "python",
   "pygments_lexer": "ipython3",
   "version": "3.9.13"
  }
 },
 "nbformat": 4,
 "nbformat_minor": 1
}
